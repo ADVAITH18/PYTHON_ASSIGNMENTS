{
  "nbformat": 4,
  "nbformat_minor": 0,
  "metadata": {
    "colab": {
      "name": "Week_2_part_1_assignments.ipynb",
      "version": "0.3.2",
      "provenance": [],
      "collapsed_sections": []
    },
    "kernelspec": {
      "name": "python3",
      "display_name": "Python 3"
    }
  },
  "cells": [
    {
      "metadata": {
        "id": "5eGXmSSdwRFQ",
        "colab_type": "code",
        "outputId": "43958a01-cc89-43c8-dde4-99fd5fc2d5cb",
        "colab": {
          "base_uri": "https://localhost:8080/",
          "height": 101
        }
      },
      "cell_type": "code",
      "source": [
        "a=10\n",
        "b=2\n",
        "print(\"SUM = \",a+b)\n",
        "print(\"DIFFERENCE = \",a-b)\n",
        "print(\"PRODUCT =\",a*b)\n",
        "print(\"QUOTIENT = \",a/b)\n",
        "print(\"REMAINDER = \",a%b)I"
      ],
      "execution_count": 0,
      "outputs": [
        {
          "output_type": "stream",
          "text": [
            "SUM =  12\n",
            "DIFFERENCE =  8\n",
            "PRODUCT = 20\n",
            "QUOTIENT =  5.0\n",
            "REMAINDER =  0\n"
          ],
          "name": "stdout"
        }
      ]
    },
    {
      "metadata": {
        "id": "SUg4ZE4ZyD3z",
        "colab_type": "text"
      },
      "cell_type": "markdown",
      "source": [
        "## RULES FOR NAMING A VARIABLE"
      ]
    },
    {
      "metadata": {
        "id": "86IzRvd2yMj4",
        "colab_type": "code",
        "colab": {}
      },
      "cell_type": "code",
      "source": [
        "1.It can only contain alphabets (A-Z,a-z),digits(0-9) and underscore(_)\n",
        "2.No special cahracters are allowed other than underscore(_)\n",
        "3.It cannot start with a digit\n",
        "4.It can start either with an alphabet (A-Z,a-z) or underscore(_)"
      ],
      "execution_count": 0,
      "outputs": []
    },
    {
      "metadata": {
        "id": "YOAHW90V1j2f",
        "colab_type": "code",
        "outputId": "eac11b05-ddfd-438c-ddf8-a13f97c4e9dc",
        "colab": {
          "base_uri": "https://localhost:8080/",
          "height": 34
        }
      },
      "cell_type": "code",
      "source": [
        "s1=\" HELLO \"\n",
        "s2=\" WORLD \"\n",
        "print(s1+s2)"
      ],
      "execution_count": 0,
      "outputs": [
        {
          "output_type": "stream",
          "text": [
            " HELLO  WORLD \n"
          ],
          "name": "stdout"
        }
      ]
    },
    {
      "metadata": {
        "id": "02szNqSD15AW",
        "colab_type": "code",
        "outputId": "72953d92-c812-4d0f-f0ca-73f2d85ff321",
        "colab": {
          "base_uri": "https://localhost:8080/",
          "height": 34
        }
      },
      "cell_type": "code",
      "source": [
        "s=\"HELLO WORLD\"\n",
        "print(s[-1::-1])"
      ],
      "execution_count": 0,
      "outputs": [
        {
          "output_type": "stream",
          "text": [
            "DLROW OLLEH\n"
          ],
          "name": "stdout"
        }
      ]
    },
    {
      "metadata": {
        "id": "28TPctbu32CC",
        "colab_type": "code",
        "outputId": "ba17563b-9c07-4916-8d4d-b54c9a410f89",
        "colab": {
          "base_uri": "https://localhost:8080/",
          "height": 34
        }
      },
      "cell_type": "code",
      "source": [
        "s3=\"lower\"\n",
        "print(s3.upper())\n"
      ],
      "execution_count": 0,
      "outputs": [
        {
          "output_type": "stream",
          "text": [
            "LOWER\n"
          ],
          "name": "stdout"
        }
      ]
    },
    {
      "metadata": {
        "id": "ee6Et32n5s-z",
        "colab_type": "code",
        "outputId": "f7e3d565-62c3-4944-9f71-4e267cf9ef9c",
        "colab": {
          "base_uri": "https://localhost:8080/",
          "height": 34
        }
      },
      "cell_type": "code",
      "source": [
        "s4=\"School of AI\"\n",
        "print(s4.split())"
      ],
      "execution_count": 0,
      "outputs": [
        {
          "output_type": "stream",
          "text": [
            "['School', 'of', 'AI']\n"
          ],
          "name": "stdout"
        }
      ]
    },
    {
      "metadata": {
        "id": "vPyhomSr6Cc_",
        "colab_type": "code",
        "outputId": "8d7ec8b7-ab9d-4844-951e-b0a02828db2c",
        "colab": {
          "base_uri": "https://localhost:8080/",
          "height": 34
        }
      },
      "cell_type": "code",
      "source": [
        "s5=\"School of AI\"\n",
        "print(s5.index(\"AI\"))\n"
      ],
      "execution_count": 0,
      "outputs": [
        {
          "output_type": "stream",
          "text": [
            "10\n"
          ],
          "name": "stdout"
        }
      ]
    },
    {
      "metadata": {
        "id": "MAKh7pdu6zWC",
        "colab_type": "code",
        "outputId": "34a62394-4b88-40f6-b415-e1dea88182c0",
        "colab": {
          "base_uri": "https://localhost:8080/",
          "height": 50
        }
      },
      "cell_type": "code",
      "source": [
        "l=[10,20,30,40]\n",
        "print(\"Length = \",len(l))\n",
        "print(\"Sum = \",sum(l))"
      ],
      "execution_count": 0,
      "outputs": [
        {
          "output_type": "stream",
          "text": [
            "Length =  4\n",
            "Sum =  100\n"
          ],
          "name": "stdout"
        }
      ]
    },
    {
      "metadata": {
        "id": "OivSt60o9d_Z",
        "colab_type": "code",
        "outputId": "56bec6b5-3054-4dcf-88b8-795f3cff1194",
        "colab": {
          "base_uri": "https://localhost:8080/",
          "height": 34
        }
      },
      "cell_type": "code",
      "source": [
        "l1=[11,22,33]\n",
        "x=l1.pop()\n",
        "print(x)"
      ],
      "execution_count": 0,
      "outputs": [
        {
          "output_type": "stream",
          "text": [
            "33\n"
          ],
          "name": "stdout"
        }
      ]
    },
    {
      "metadata": {
        "id": "48pHByQDABda",
        "colab_type": "code",
        "outputId": "25d95fd6-a729-4853-f6b9-bb6de0d4d325",
        "colab": {
          "base_uri": "https://localhost:8080/",
          "height": 34
        }
      },
      "cell_type": "code",
      "source": [
        "l2=[10,20,40]\n",
        "l2.insert(2,30)\n",
        "print(l2)"
      ],
      "execution_count": 0,
      "outputs": [
        {
          "output_type": "stream",
          "text": [
            "[10, 20, 30, 40]\n"
          ],
          "name": "stdout"
        }
      ]
    },
    {
      "metadata": {
        "id": "J-60qtObAO4d",
        "colab_type": "code",
        "outputId": "f5ddafa3-f7db-4a2a-92dc-875bb18a1a83",
        "colab": {
          "base_uri": "https://localhost:8080/",
          "height": 34
        }
      },
      "cell_type": "code",
      "source": [
        "l3=['a','b','c']\n",
        "l3.remove('b')\n",
        "print(l3)"
      ],
      "execution_count": 0,
      "outputs": [
        {
          "output_type": "stream",
          "text": [
            "['a', 'c']\n"
          ],
          "name": "stdout"
        }
      ]
    },
    {
      "metadata": {
        "id": "4z8kv8TgAjmK",
        "colab_type": "code",
        "outputId": "cecaf15d-106e-4b6d-8f58-def1be98cf71",
        "colab": {
          "base_uri": "https://localhost:8080/",
          "height": 34
        }
      },
      "cell_type": "code",
      "source": [
        "l4=[5,'a','b','c',1,5]\n",
        "alpha_list=l4[1:4]\n",
        "print(alpha_list)"
      ],
      "execution_count": 0,
      "outputs": [
        {
          "output_type": "stream",
          "text": [
            "['a', 'b', 'c']\n"
          ],
          "name": "stdout"
        }
      ]
    },
    {
      "metadata": {
        "id": "YQGAxHfxGKjs",
        "colab_type": "code",
        "outputId": "17f50387-37e6-4f2c-f985-1fd4900271da",
        "colab": {
          "base_uri": "https://localhost:8080/",
          "height": 34
        }
      },
      "cell_type": "code",
      "source": [
        "dict={1:'odd',2:'even'}\n",
        "print(dict)"
      ],
      "execution_count": 0,
      "outputs": [
        {
          "output_type": "stream",
          "text": [
            "{1: 'odd', 2: 'even'}\n"
          ],
          "name": "stdout"
        }
      ]
    },
    {
      "metadata": {
        "id": "sPxQnw6uGq38",
        "colab_type": "code",
        "outputId": "0049230e-dccf-4b6c-dcca-feccd5f7dd84",
        "colab": {
          "base_uri": "https://localhost:8080/",
          "height": 34
        }
      },
      "cell_type": "code",
      "source": [
        "dict={1:'odd',2:'even'}\n",
        "dict[2]=\"EVEN\"\n",
        "print(dict)"
      ],
      "execution_count": 0,
      "outputs": [
        {
          "output_type": "stream",
          "text": [
            "{1: 'odd', 2: 'EVEN'}\n"
          ],
          "name": "stdout"
        }
      ]
    }
  ]
}