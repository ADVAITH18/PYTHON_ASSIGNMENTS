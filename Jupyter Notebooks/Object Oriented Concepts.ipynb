{
 "cells": [
  {
   "cell_type": "markdown",
   "metadata": {},
   "source": [
    "## Object Oriented Concepts\n",
    "\n",
    "Today we will be implementing the programs using OOP concepts. There accesibility of a variable is very important in OOPs. Class variables are thosewhich can be accesed by any function inside the class. Every class has a special function called intializer `__init__(self):` to intialize the class variables.The initialiser function is invoked when we create an object. The `self` keyword is used to show that the function can be accessed using objects.\n",
    "\n",
    "Given below is a sample code to explain implementation of OOP"
   ]
  },
  {
   "cell_type": "code",
   "execution_count": 15,
   "metadata": {},
   "outputs": [
    {
     "name": "stdout",
     "output_type": "stream",
     "text": [
      "Enter the size of the list5\n",
      "1\n",
      "4\n",
      "7\n",
      "6\n",
      "8\n",
      "8 6 7 4 1 \n"
     ]
    }
   ],
   "source": [
    "#Program to print the elements of a list in sorted order\n",
    "class Reverse:\n",
    "    def __init__(self,size):\n",
    "        self.size=size\n",
    "    def input(self):\n",
    "        self.l=[]\n",
    "        for i in range(self.size):\n",
    "            self.l.append(int(input()))\n",
    "    def display(self):\n",
    "        for i in range(obj.size-1,-1,-1):\n",
    "            print(obj.l[i],end=\" \")\n",
    "        print()\n",
    "if __name__=='__main__':\n",
    "    n=int(input(\"Enter the size of the list\"))\n",
    "    obj=Reverse(n)\n",
    "    obj.input()\n",
    "    obj.display()"
   ]
  },
  {
   "cell_type": "markdown",
   "metadata": {},
   "source": [
    "We have implemented a a simple using OOP in above section.You may think that the code is lengthy but the advantage of OOPs is yet to come.Now lets wirte a program to take two different times as input and find the sum.**_(The should be entered in hours minutes seconds format)_**\n",
    "\n",
    "**Sample Input**\n",
    "\n",
    "Enter the time \n",
    "\n",
    "16\n",
    "23\n",
    "45\n",
    " \n",
    "Enter the time \n",
    "\n",
    "2\n",
    "45\n",
    "36\n",
    " \n",
    "**Sample Output**\n",
    "\n",
    "The total time is 19 hours 9 minutes and 21 seconds"
   ]
  },
  {
   "cell_type": "code",
   "execution_count": 1,
   "metadata": {},
   "outputs": [
    {
     "name": "stdout",
     "output_type": "stream",
     "text": [
      "FIRST TIME\n",
      "Enter the hours15\n",
      "Enter the minutes21\n",
      "Enter the seconds10\n",
      "SECOND TIME\n",
      "Enter the hours20\n",
      "Enter the minutes58\n",
      "Enter the seconds42\n",
      "The total time is 36 hours 19 minutes 52 seconds\n"
     ]
    }
   ],
   "source": [
    "class Time:\n",
    "    def __init__(self):\n",
    "        #assign default values to variables \n",
    "        self.h=0\n",
    "        self.m=0\n",
    "        self.s=0\n",
    "    def input(self):\n",
    "        #function to input the time\n",
    "        self.h=int(input(\"Enter the hours\"))\n",
    "        self.m=int(input(\"Enter the minutes\"))\n",
    "        self.s=int(input(\"Enter the seconds\"))\n",
    "    def display(self,t1,t2):\n",
    "        #function to calculate total time  and optimise it\n",
    "        self.h=t1.h+t2.h\n",
    "        self.m=t1.m+t2.m\n",
    "        self.s=t1.s+t2.s\n",
    "        \n",
    "        #optimising seconds\n",
    "        if self.s>=60:\n",
    "            self.s-=60\n",
    "            self.m+=1\n",
    "\n",
    "        #optiimising minutes\n",
    "        if self.m>=60:\n",
    "            self.m-=60\n",
    "            self.h+=1\n",
    "\n",
    "        print(\"The total time is {} hours {} minutes {} seconds\".format(self.h,self.m,self.s))\n",
    "if __name__==\"__main__\":\n",
    "    \n",
    "    t1=Time()#creates object for first time\n",
    "    print(\"FIRST TIME\")\n",
    "    t1.input()\n",
    "    t2=Time()#creates object for second time\n",
    "    print(\"SECOND TIME\")\n",
    "    t2.input()\n",
    "\n",
    "    t3=Time()#creates a third object to store total time\n",
    "    t3.display(t1,t2)#calls the display() function and passes two objects as paramters\n",
    "\n",
    "\n",
    "\n",
    "\n",
    "\n",
    "\n",
    "\n",
    "\n",
    "\n",
    "\n",
    "\n",
    "\n",
    "\n",
    "\n",
    "\n",
    "\n",
    "\n",
    "\n",
    "\n",
    "\n",
    "\n",
    "\n",
    "\n",
    "\n",
    "\n",
    "\n",
    "\n"
   ]
  },
  {
   "cell_type": "markdown",
   "metadata": {},
   "source": [
    "*_Write a program to find the age of a person by taking the current date and DOB as the inputs_*.Implement this using the OOPs concept.There should be one object for **current date and DOB**.\n",
    "\n",
    "**Sample Input**\n",
    "Enter the current date in DD/MM/YYYY format\n",
    "\n",
    "4\n",
    "2\n",
    "2020\n",
    "\n",
    "Enter your date of birth in DD/MM/YYYY format\n",
    "\n",
    "1\n",
    "1\n",
    "2000\n",
    "\n",
    "**Sample Output**\n",
    "You are 20 years 1 months 3 days \n"
   ]
  },
  {
   "cell_type": "code",
   "execution_count": null,
   "metadata": {},
   "outputs": [],
   "source": [
    "#Refer to the code above and try this program yourself\n",
    "\n",
    "\n",
    "\n",
    "\n",
    "\n",
    "\n",
    "\n",
    "\n",
    "\n",
    "\n",
    "\n",
    "\n",
    "\n",
    "\n",
    "\n",
    "\n",
    "\n",
    "\n",
    "\n",
    "\n",
    "\n",
    "\n",
    "\n",
    "\n"
   ]
  }
 ],
 "metadata": {
  "kernelspec": {
   "display_name": "Python 3",
   "language": "python",
   "name": "python3"
  },
  "language_info": {
   "codemirror_mode": {
    "name": "ipython",
    "version": 3
   },
   "file_extension": ".py",
   "mimetype": "text/x-python",
   "name": "python",
   "nbconvert_exporter": "python",
   "pygments_lexer": "ipython3",
   "version": "3.7.4"
  }
 },
 "nbformat": 4,
 "nbformat_minor": 2
}
